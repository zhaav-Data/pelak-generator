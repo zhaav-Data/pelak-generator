{
 "cells": [
  {
   "cell_type": "code",
   "execution_count": 9,
   "id": "a2cf3d24-27ec-4851-a3f2-c5605fd4d3f5",
   "metadata": {},
   "outputs": [
    {
     "name": "stderr",
     "output_type": "stream",
     "text": [
      "Generating persian car plate number: 100%|██████████████████████████████████████████████████████████████████████████████████████████████████████████████████████████████████████████████████████████████████████████████████| 500000000/500000000 [36:37<00:00, 227571.14it/s]\n"
     ]
    }
   ],
   "source": [
    "import os\n",
    "import random\n",
    "import csv\n",
    "import json\n",
    "from tqdm import tqdm\n",
    "from persian_names import *\n",
    "\n",
    "os.makedirs('./output/',exist_ok=True)\n",
    "\n",
    "\n",
    "with open('config.json', 'r') as file:\n",
    "    data = json.load(file)\n",
    "\n",
    "chars = data['chars']\n",
    "models = data['car_model']\n",
    "\n",
    "\n",
    "def generate_plate_texts(total_count, chunk_size):\n",
    "    with tqdm(total=total_count, desc=\"Generating persian car plate number\") as pbar:\n",
    "        chunk = []  # Temporary storage for current chunk of plate texts\n",
    "        file_index = 1  # Index to keep track of file numbering\n",
    "\n",
    "        for _ in range(total_count):\n",
    "            # Make random choices\n",
    "            chap = str(random.randint(0,99))\n",
    "            random_char = random.choice(chars)\n",
    "            rast = str(random.randint(100,990))\n",
    "            car_model_ = str(random.choice(models))\n",
    "\n",
    "            plate_text = (chap + ',' + random_char['en'] + ',' + random_char['fa'] + ',' + rast + ',' + car_model_ + ','  + str(random.randint(18,80)) + ',' + firstname_fa('r') + ',' + lastname_fa())\n",
    "\n",
    "            chunk.append([plate_text])\n",
    "\n",
    "            # Check if current chunk has reached the chunk size\n",
    "            if len(chunk) >= chunk_size:\n",
    "                # Write the current chunk to a CSV file\n",
    "                with open(f'./output/plates_{file_index}.csv', 'w', newline='', encoding='utf-8') as file:\n",
    "                    # writer = csv.writer(file)\n",
    "                    # writer.writerows(chunk)\n",
    "                    writer = csv.writer(file, quoting=csv.QUOTE_NONE, escapechar=' ')  # Set QUOTE_NONE and define an escape character\n",
    "                    \n",
    "                    try:\n",
    "                        writer.writerows(chunk)  # Write the chunk of data\n",
    "                    except csv.Error as e:\n",
    "                        print(f'Error writing CSV: {e}')\n",
    "                        \n",
    "                chunk = []  # Reset chunk\n",
    "                file_index += 1  # Increment file index\n",
    "                pbar.update(chunk_size)  # Update progress bar\n",
    "\n",
    "        # Write any remaining data in the chunk after the loop\n",
    "        if chunk:\n",
    "            with open(f'./output/plates_{file_index}.csv', 'w', newline='', encoding='utf-8') as file:\n",
    "                # writer = csv.writer(file)\n",
    "                # writer.writerows(chunk)\n",
    "                writer = csv.writer(file, quoting=csv.QUOTE_NONE, escapechar=' ')  # Set QUOTE_NONE and define an escape character\n",
    "                    \n",
    "                try:\n",
    "                    writer.writerows(chunk)  # Write the chunk of data\n",
    "                except csv.Error as e:\n",
    "                    print(f'Error writing CSV: {e}')\n",
    "            pbar.update(len(chunk))\n",
    "\n",
    "# generate_plate_texts(1000000000, 10000000)\n",
    "\n",
    "generate_plate_texts(500_000_000, 10_000_000)"
   ]
  },
  {
   "cell_type": "code",
   "execution_count": 1,
   "id": "d28bd41b-8c19-4c44-a0aa-4358c3084327",
   "metadata": {},
   "outputs": [],
   "source": [
    "import pandas as pd"
   ]
  },
  {
   "cell_type": "code",
   "execution_count": 2,
   "id": "c7545979-25dd-4b37-91ad-817001940c0d",
   "metadata": {},
   "outputs": [],
   "source": [
    "df = pd.read_csv(\"./output/plates_1.csv\")"
   ]
  },
  {
   "cell_type": "code",
   "execution_count": 3,
   "id": "de4c7292-6ea4-46e8-a9b1-904f9a002494",
   "metadata": {},
   "outputs": [
    {
     "data": {
      "text/html": [
       "<div>\n",
       "<style scoped>\n",
       "    .dataframe tbody tr th:only-of-type {\n",
       "        vertical-align: middle;\n",
       "    }\n",
       "\n",
       "    .dataframe tbody tr th {\n",
       "        vertical-align: top;\n",
       "    }\n",
       "\n",
       "    .dataframe thead th {\n",
       "        text-align: right;\n",
       "    }\n",
       "</style>\n",
       "<table border=\"1\" class=\"dataframe\">\n",
       "  <thead>\n",
       "    <tr style=\"text-align: right;\">\n",
       "      <th></th>\n",
       "      <th>99</th>\n",
       "      <th>te</th>\n",
       "      <th>ت</th>\n",
       "      <th>585</th>\n",
       "      <th>پژو</th>\n",
       "      <th>59</th>\n",
       "      <th>فردوس</th>\n",
       "      <th>فرزانی  گرگانی</th>\n",
       "    </tr>\n",
       "  </thead>\n",
       "  <tbody>\n",
       "    <tr>\n",
       "      <th>0</th>\n",
       "      <td>67</td>\n",
       "      <td>zhe</td>\n",
       "      <td>ژ</td>\n",
       "      <td>310</td>\n",
       "      <td>آریسان</td>\n",
       "      <td>62</td>\n",
       "      <td>سلطان</td>\n",
       "      <td>فرزامی</td>\n",
       "    </tr>\n",
       "    <tr>\n",
       "      <th>1</th>\n",
       "      <td>66</td>\n",
       "      <td>lam</td>\n",
       "      <td>ل</td>\n",
       "      <td>848</td>\n",
       "      <td>هایما</td>\n",
       "      <td>57</td>\n",
       "      <td>بهرام</td>\n",
       "      <td>محمدجواد  لو</td>\n",
       "    </tr>\n",
       "    <tr>\n",
       "      <th>2</th>\n",
       "      <td>93</td>\n",
       "      <td>zhe</td>\n",
       "      <td>ژ</td>\n",
       "      <td>862</td>\n",
       "      <td>سئات</td>\n",
       "      <td>56</td>\n",
       "      <td>آتوسا</td>\n",
       "      <td>مشکاتی</td>\n",
       "    </tr>\n",
       "    <tr>\n",
       "      <th>3</th>\n",
       "      <td>25</td>\n",
       "      <td>ch</td>\n",
       "      <td>چ</td>\n",
       "      <td>732</td>\n",
       "      <td>ایسوزو</td>\n",
       "      <td>37</td>\n",
       "      <td>سپهر</td>\n",
       "      <td>نوروزی  دلیجانی</td>\n",
       "    </tr>\n",
       "    <tr>\n",
       "      <th>4</th>\n",
       "      <td>79</td>\n",
       "      <td>pe</td>\n",
       "      <td>پ</td>\n",
       "      <td>921</td>\n",
       "      <td>دلیکا</td>\n",
       "      <td>75</td>\n",
       "      <td>هانیه</td>\n",
       "      <td>نیمایی  رفسنجانی</td>\n",
       "    </tr>\n",
       "  </tbody>\n",
       "</table>\n",
       "</div>"
      ],
      "text/plain": [
       "   99    te   ت   585      پژو   59   فردوس     فرزانی  گرگانی\n",
       "0   67  zhe   ژ    310  آریسان    62  سلطان             فرزامی\n",
       "1   66  lam   ل    848   هایما    57  بهرام       محمدجواد  لو\n",
       "2   93  zhe   ژ    862    سئات    56  آتوسا             مشکاتی\n",
       "3   25   ch   چ    732  ایسوزو    37   سپهر    نوروزی  دلیجانی\n",
       "4   79   pe   پ    921   دلیکا    75  هانیه   نیمایی  رفسنجانی"
      ]
     },
     "execution_count": 3,
     "metadata": {},
     "output_type": "execute_result"
    }
   ],
   "source": [
    "df.head()"
   ]
  },
  {
   "cell_type": "code",
   "execution_count": 5,
   "id": "236d72f1-f2e1-4a8b-bd0a-316b86b03d19",
   "metadata": {},
   "outputs": [
    {
     "data": {
      "text/plain": [
       "49999999"
      ]
     },
     "execution_count": 5,
     "metadata": {},
     "output_type": "execute_result"
    }
   ],
   "source": [
    "len(df)"
   ]
  },
  {
   "cell_type": "code",
   "execution_count": null,
   "id": "8087faa7-f680-4137-bc13-7bea835e3735",
   "metadata": {},
   "outputs": [],
   "source": []
  }
 ],
 "metadata": {
  "kernelspec": {
   "display_name": "Python 3 (ipykernel)",
   "language": "python",
   "name": "python3"
  },
  "language_info": {
   "codemirror_mode": {
    "name": "ipython",
    "version": 3
   },
   "file_extension": ".py",
   "mimetype": "text/x-python",
   "name": "python",
   "nbconvert_exporter": "python",
   "pygments_lexer": "ipython3",
   "version": "3.12.3"
  }
 },
 "nbformat": 4,
 "nbformat_minor": 5
}
